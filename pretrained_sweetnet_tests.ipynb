{
 "cells": [
  {
   "cell_type": "markdown",
   "id": "ffe9cea4",
   "metadata": {},
   "source": [
    "### About\n",
    "To get to know glycowork I'll first get the pretrained sweetnet module working, then I'll build an evaluator to check its performance, this evaluator is meant to be iterated throughout the project until I can use it for the final evaluation where I compare base SweetNet to my GLM-infused Sweetnet. The testing data from the pretrained model will be used as a sanity chek once I set up my own sweetnet to iterate into the GLM-infuced variant (eventually I'll work with glycowork/ml/models.py)"
   ]
  },
  {
   "cell_type": "markdown",
   "id": "31fa38be",
   "metadata": {},
   "source": [
    " # Load Dependencies"
   ]
  },
  {
   "cell_type": "code",
   "execution_count": 1,
   "id": "19bba6cd",
   "metadata": {},
   "outputs": [
    {
     "name": "stderr",
     "output_type": "stream",
     "text": [
      "c:\\Users\\somon\\miniconda3\\envs\\sweetnet_env\\Lib\\site-packages\\tqdm\\auto.py:21: TqdmWarning: IProgress not found. Please update jupyter and ipywidgets. See https://ipywidgets.readthedocs.io/en/stable/user_install.html\n",
      "  from .autonotebook import tqdm as notebook_tqdm\n"
     ]
    }
   ],
   "source": [
    "import glycowork"
   ]
  },
  {
   "cell_type": "markdown",
   "id": "a2029487",
   "metadata": {},
   "source": [
    "# Load pre-trained SweetNet"
   ]
  },
  {
   "cell_type": "code",
   "execution_count": 3,
   "id": "46f73587",
   "metadata": {},
   "outputs": [
    {
     "name": "stdout",
     "output_type": "stream",
     "text": [
      "Found prep_model in glycowork.ml!\n",
      "Help on function prep_model in module glycowork.ml.models:\n",
      "\n",
      "prep_model(model_type: Literal['SweetNet', 'LectinOracle', 'LectinOracle_flex', 'NSequonPred'], num_classes: int, libr: Optional[Dict[str, int]] = None, trained: bool = False, hidden_dim: int = 128) -> torch.nn.modules.module.Module\n",
      "    wrapper to instantiate model, initialize it, and put it on the GPU\n",
      "\n"
     ]
    }
   ],
   "source": [
    "try:\n",
    "    from glycowork.ml.models import prep_model\n",
    "    print(\"Found prep_model in glycowork.ml!\")\n",
    "    help(prep_model)\n",
    "except ImportError:\n",
    "    print(\"Could not import prep_model directly from glycowork.ml.\")\n",
    "    # Optional: Explore the ml module further\n",
    "    # import glycowork.ml\n",
    "    # print(dir(glycowork.ml))"
   ]
  },
  {
   "cell_type": "markdown",
   "id": "fa4ada5b",
   "metadata": {},
   "source": [
    "That was a couple of hours of preamble to get that to work.\n",
    "\n",
    "I set up a normal glycowork install in google colab to verify that I could get the function to work and almost gave up on having an editable local install but I set out to try just one more time and succeeded in installing what I need\n",
    "\n",
    "I set up new fresh conda environment with better dependencies I am able to use the prep_model function"
   ]
  },
  {
   "cell_type": "code",
   "execution_count": 8,
   "id": "a38067ec",
   "metadata": {},
   "outputs": [
    {
     "name": "stdout",
     "output_type": "stream",
     "text": [
      "SweetNet(\n",
      "  (conv1): GraphConv(128, 128)\n",
      "  (conv2): GraphConv(128, 128)\n",
      "  (conv3): GraphConv(128, 128)\n",
      "  (item_embedding): Embedding(2566, 128)\n",
      "  (lin1): Linear(in_features=128, out_features=1024, bias=True)\n",
      "  (lin2): Linear(in_features=1024, out_features=128, bias=True)\n",
      "  (lin3): Linear(in_features=128, out_features=3, bias=True)\n",
      "  (bn1): BatchNorm1d(1024, eps=1e-05, momentum=0.1, affine=True, track_running_stats=True)\n",
      "  (bn2): BatchNorm1d(128, eps=1e-05, momentum=0.1, affine=True, track_running_stats=True)\n",
      "  (act1): LeakyReLU(negative_slope=0.01)\n",
      "  (act2): LeakyReLU(negative_slope=0.01)\n",
      ")\n"
     ]
    }
   ],
   "source": [
    "simple_sweetnet = prep_model(\"SweetNet\", 3)\n",
    "print(simple_sweetnet)"
   ]
  },
  {
   "cell_type": "markdown",
   "id": "964b94e1",
   "metadata": {},
   "source": [
    "I have a pre-trained SweetNet to play around with, now I just need a way to test it. \n",
    "\n",
    "Time to build a first iteration of the evaluator\n",
    "\n",
    "Since the pre-trained model is made for species prediction, lets do just that, when I have my own model I can predict for other properties. \n",
    "\n",
    "The evaluator function will get ported to an utils.py once I get the base system working\n",
    "\n",
    "Before doing evaluation I need to build a data loading and splitting system using the tools available in glycowork\n"
   ]
  },
  {
   "cell_type": "code",
   "execution_count": null,
   "id": "47be30b0",
   "metadata": {},
   "outputs": [
    {
     "name": "stdout",
     "output_type": "stream",
     "text": [
      "Found load_glycan_dataset in glycowork.datasets!\n"
     ]
    }
   ],
   "source": [
    "# Lets see if I have the dependencies installed to load the species-specific dataset\n",
    "try:\n",
    "    from glycowork.glycan_data.loader import df_species\n",
    "    print(\"Found df_species!\")\n",
    "    #help(df_species)\n",
    "except ImportError:\n",
    "    print(\"Could not import df_species\")\n"
   ]
  },
  {
   "cell_type": "code",
   "execution_count": 28,
   "id": "6b8752a4",
   "metadata": {},
   "outputs": [
    {
     "name": "stdout",
     "output_type": "stream",
     "text": [
      "['Class', 'Domain', 'Family', 'Genus', 'Kingdom', 'Order', 'Phylum', 'Species', 'T', '_AXIS_LEN', '_AXIS_ORDERS', '_AXIS_TO_AXIS_NUMBER', '_HANDLED_TYPES', '__abs__', '__add__', '__and__', '__annotations__', '__array__', '__array_priority__', '__array_ufunc__', '__arrow_c_stream__', '__bool__', '__class__', '__contains__', '__copy__', '__dataframe__', '__dataframe_consortium_standard__', '__deepcopy__', '__delattr__', '__delitem__', '__dict__', '__dir__', '__divmod__', '__doc__', '__eq__', '__finalize__', '__floordiv__', '__format__', '__ge__', '__getattr__', '__getattribute__', '__getitem__', '__getstate__', '__gt__', '__hash__', '__iadd__', '__iand__', '__ifloordiv__', '__imod__', '__imul__', '__init__', '__init_subclass__', '__invert__', '__ior__', '__ipow__', '__isub__', '__iter__', '__itruediv__', '__ixor__', '__le__', '__len__', '__lt__', '__matmul__', '__mod__', '__module__', '__mul__', '__ne__', '__neg__', '__new__', '__nonzero__', '__or__', '__pandas_priority__', '__pos__', '__pow__', '__radd__', '__rand__', '__rdivmod__', '__reduce__', '__reduce_ex__', '__repr__', '__rfloordiv__', '__rmatmul__', '__rmod__', '__rmul__', '__ror__', '__round__', '__rpow__', '__rsub__', '__rtruediv__', '__rxor__', '__setattr__', '__setitem__', '__setstate__', '__sizeof__', '__str__', '__sub__', '__subclasshook__', '__truediv__', '__weakref__', '__xor__', '_accessors', '_accum_func', '_agg_examples_doc', '_agg_see_also_doc', '_align_for_op', '_align_frame', '_align_series', '_append', '_arith_method', '_arith_method_with_reindex', '_as_manager', '_attrs', '_box_col_values', '_can_fast_transpose', '_check_inplace_and_allows_duplicate_labels', '_check_is_chained_assignment_possible', '_check_label_or_level_ambiguity', '_check_setitem_copy', '_clear_item_cache', '_clip_with_one_bound', '_clip_with_scalar', '_cmp_method', '_combine_frame', '_consolidate', '_consolidate_inplace', '_construct_axes_dict', '_construct_result', '_constructor', '_constructor_from_mgr', '_constructor_sliced', '_constructor_sliced_from_mgr', '_create_data_for_split_and_tight_to_dict', '_data', '_deprecate_downcast', '_dir_additions', '_dir_deletions', '_dispatch_frame_op', '_drop_axis', '_drop_labels_or_levels', '_ensure_valid_index', '_find_valid_index', '_flags', '_flex_arith_method', '_flex_cmp_method', '_from_arrays', '_from_mgr', '_get_agg_axis', '_get_axis', '_get_axis_name', '_get_axis_number', '_get_axis_resolvers', '_get_block_manager_axis', '_get_bool_data', '_get_cleaned_column_resolvers', '_get_column_array', '_get_index_resolvers', '_get_item_cache', '_get_label_or_level_values', '_get_numeric_data', '_get_value', '_get_values_for_csv', '_getitem_bool_array', '_getitem_multilevel', '_getitem_nocopy', '_getitem_slice', '_gotitem', '_hidden_attrs', '_indexed_same', '_info_axis', '_info_axis_name', '_info_axis_number', '_info_repr', '_init_mgr', '_inplace_method', '_internal_names', '_internal_names_set', '_is_copy', '_is_homogeneous_type', '_is_label_or_level_reference', '_is_label_reference', '_is_level_reference', '_is_mixed_type', '_is_view', '_is_view_after_cow_rules', '_iset_item', '_iset_item_mgr', '_iset_not_inplace', '_item_cache', '_iter_column_arrays', '_ixs', '_logical_func', '_logical_method', '_maybe_align_series_as_frame', '_maybe_cache_changed', '_maybe_update_cacher', '_metadata', '_mgr', '_min_count_stat_function', '_needs_reindex_multi', '_pad_or_backfill', '_protect_consolidate', '_reduce', '_reduce_axis1', '_reindex_axes', '_reindex_multi', '_reindex_with_indexers', '_rename', '_replace_columnwise', '_repr_data_resource_', '_repr_fits_horizontal_', '_repr_fits_vertical_', '_repr_html_', '_repr_latex_', '_reset_cache', '_reset_cacher', '_sanitize_column', '_series', '_set_axis', '_set_axis_name', '_set_axis_nocheck', '_set_is_copy', '_set_item', '_set_item_frame_value', '_set_item_mgr', '_set_value', '_setitem_array', '_setitem_frame', '_setitem_slice', '_shift_with_freq', '_should_reindex_frame_op', '_slice', '_stat_function', '_stat_function_ddof', '_take_with_is_copy', '_to_dict_of_blocks', '_to_latex_via_styler', '_typ', '_update_inplace', '_validate_dtype', '_values', '_where', 'abs', 'add', 'add_prefix', 'add_suffix', 'agg', 'aggregate', 'align', 'all', 'any', 'apply', 'applymap', 'asfreq', 'asof', 'assign', 'astype', 'at', 'at_time', 'attrs', 'axes', 'backfill', 'between_time', 'bfill', 'bool', 'boxplot', 'clip', 'columns', 'combine', 'combine_first', 'compare', 'convert_dtypes', 'copy', 'corr', 'corrwith', 'count', 'cov', 'cummax', 'cummin', 'cumprod', 'cumsum', 'describe', 'diff', 'div', 'divide', 'dot', 'drop', 'drop_duplicates', 'droplevel', 'dropna', 'dtypes', 'duplicated', 'empty', 'eq', 'equals', 'eval', 'ewm', 'expanding', 'explode', 'ffill', 'fillna', 'filter', 'first', 'first_valid_index', 'flags', 'floordiv', 'from_dict', 'from_records', 'ge', 'get', 'glycan', 'glyco_filter', 'groupby', 'gt', 'head', 'hist', 'iat', 'idxmax', 'idxmin', 'iloc', 'index', 'infer_objects', 'info', 'insert', 'interpolate', 'isetitem', 'isin', 'isna', 'isnull', 'items', 'iterrows', 'itertuples', 'join', 'keys', 'kurt', 'kurtosis', 'last', 'last_valid_index', 'le', 'loc', 'lt', 'map', 'mask', 'max', 'mean', 'median', 'melt', 'memory_usage', 'merge', 'min', 'mod', 'mode', 'mul', 'multiply', 'ndim', 'ne', 'nlargest', 'notna', 'notnull', 'nsmallest', 'nunique', 'pad', 'pct_change', 'pipe', 'pivot', 'pivot_table', 'plot', 'pop', 'pow', 'prod', 'product', 'quantile', 'query', 'radd', 'rank', 'rdiv', 'ref', 'reindex', 'reindex_like', 'rename', 'rename_axis', 'reorder_levels', 'replace', 'resample', 'reset_index', 'rfloordiv', 'rmod', 'rmul', 'rolling', 'round', 'rpow', 'rsub', 'rtruediv', 'sample', 'select_dtypes', 'sem', 'set_axis', 'set_flags', 'set_index', 'shape', 'shift', 'size', 'skew', 'sort_index', 'sort_values', 'squeeze', 'stack', 'std', 'style', 'sub', 'subtract', 'sum', 'swapaxes', 'swaplevel', 'tail', 'take', 'to_clipboard', 'to_csv', 'to_dict', 'to_excel', 'to_feather', 'to_gbq', 'to_hdf', 'to_html', 'to_json', 'to_latex', 'to_markdown', 'to_numpy', 'to_orc', 'to_parquet', 'to_period', 'to_pickle', 'to_records', 'to_sql', 'to_stata', 'to_string', 'to_timestamp', 'to_xarray', 'to_xml', 'transform', 'transpose', 'truediv', 'truncate', 'tz_convert', 'tz_localize', 'unstack', 'update', 'value_counts', 'values', 'var', 'where', 'xs']\n",
      "<class 'glycowork.glycan_data.loader.GlycoDataFrame'>\n",
      "RangeIndex: 39651 entries, 0 to 39650\n",
      "Data columns (total 10 columns):\n",
      " #   Column   Non-Null Count  Dtype \n",
      "---  ------   --------------  ----- \n",
      " 0   glycan   39651 non-null  object\n",
      " 1   Species  39651 non-null  object\n",
      " 2   Genus    39651 non-null  object\n",
      " 3   Family   39651 non-null  object\n",
      " 4   Order    39651 non-null  object\n",
      " 5   Class    39651 non-null  object\n",
      " 6   Phylum   39651 non-null  object\n",
      " 7   Kingdom  39651 non-null  object\n",
      " 8   Domain   39651 non-null  object\n",
      " 9   ref      23803 non-null  object\n",
      "dtypes: object(10)\n",
      "memory usage: 3.0+ MB\n",
      "None\n",
      "                                              glycan                 Species  \\\n",
      "0  Gal(a1-2)[Rha3Me(a1-3)][Xyl(b1-4)]Fuc(a1-3)[Xy...                  ATCV-1   \n",
      "1  Gal(a1-2)[Rha3Me(a1-3)][Xyl(b1-4)]Fuc(a1-3)[Xy...                  ATCV-1   \n",
      "2  Gal(a1-2)[Rha3Me(a1-3)][Xyl4Me(b1-4)]Fuc(a1-3)...                  ATCV-1   \n",
      "3  Gal(a1-2)[Rha3Me(a1-3)][Xyl4Me(b1-4)]Fuc(a1-3)...                  ATCV-1   \n",
      "4                            GalA(a1-2)Rha(a1-4)GalA  Abelmoschus_esculentus   \n",
      "\n",
      "         Genus           Family        Order          Class  \\\n",
      "0  Chlorovirus  Phycodnaviridae  Algavirales  Megaviricetes   \n",
      "1  Chlorovirus  Phycodnaviridae  Algavirales  Megaviricetes   \n",
      "2  Chlorovirus  Phycodnaviridae  Algavirales  Megaviricetes   \n",
      "3  Chlorovirus  Phycodnaviridae  Algavirales  Megaviricetes   \n",
      "4  Abelmoschus        Malvaceae     Malvales   Dicotyledons   \n",
      "\n",
      "               Phylum       Kingdom   Domain  \\\n",
      "0  Nucleocytoviricota  Bamfordvirae    Virus   \n",
      "1  Nucleocytoviricota  Bamfordvirae    Virus   \n",
      "2  Nucleocytoviricota  Bamfordvirae    Virus   \n",
      "3  Nucleocytoviricota  Bamfordvirae    Virus   \n",
      "4         Angiosperms       Plantae  Eukarya   \n",
      "\n",
      "                                         ref  \n",
      "0  https://pubmed.ncbi.nlm.nih.gov/26582281/  \n",
      "1  https://pubmed.ncbi.nlm.nih.gov/26582281/  \n",
      "2  https://pubmed.ncbi.nlm.nih.gov/26582281/  \n",
      "3  https://pubmed.ncbi.nlm.nih.gov/26582281/  \n",
      "4                                        NaN  \n",
      "Index(['glycan', 'Species', 'Genus', 'Family', 'Order', 'Class', 'Phylum',\n",
      "       'Kingdom', 'Domain', 'ref'],\n",
      "      dtype='object')\n",
      "['ATCV-1' 'Abelmoschus_esculentus' 'Abelmoschus_glutinotextilis ' ...\n",
      " 'undetermined' 'unidentified_adenovirus' 'unidentified_influenza_virus']\n"
     ]
    }
   ],
   "source": [
    "# let's explore the dataset a bit\n",
    "\n",
    "print(dir(df_species))\n",
    "print(df_species.info())\n",
    "print(df_species.head())\n",
    "print(df_species.columns)\n",
    "print(df_species[\"Species\"].unique())"
   ]
  },
  {
   "cell_type": "code",
   "execution_count": null,
   "id": "a97b592a",
   "metadata": {},
   "outputs": [
    {
     "name": "stdout",
     "output_type": "stream",
     "text": [
      "<class 'glycowork.glycan_data.loader.GlycoDataFrame'>\n",
      "Index: 50594 entries, 0 to 50593\n",
      "Data columns (total 23 columns):\n",
      " #   Column               Non-Null Count  Dtype \n",
      "---  ------               --------------  ----- \n",
      " 0   glycan               50594 non-null  object\n",
      " 1   Species              50594 non-null  object\n",
      " 2   Genus                50594 non-null  object\n",
      " 3   Family               50594 non-null  object\n",
      " 4   Order                50594 non-null  object\n",
      " 5   Class                50594 non-null  object\n",
      " 6   Phylum               50594 non-null  object\n",
      " 7   Kingdom              50594 non-null  object\n",
      " 8   Domain               50594 non-null  object\n",
      " 9   ref                  50594 non-null  object\n",
      " 10  glytoucan_id         35019 non-null  object\n",
      " 11  glycan_type          26966 non-null  object\n",
      " 12  disease_association  50594 non-null  object\n",
      " 13  disease_id           50594 non-null  object\n",
      " 14  disease_sample       50594 non-null  object\n",
      " 15  disease_direction    50594 non-null  object\n",
      " 16  disease_ref          50594 non-null  object\n",
      " 17  disease_species      50594 non-null  object\n",
      " 18  tissue_sample        50594 non-null  object\n",
      " 19  tissue_id            50594 non-null  object\n",
      " 20  tissue_ref           50594 non-null  object\n",
      " 21  tissue_species       50594 non-null  object\n",
      " 22  Composition          50594 non-null  object\n",
      "dtypes: object(23)\n",
      "memory usage: 9.3+ MB\n",
      "None\n"
     ]
    }
   ],
   "source": [
    "# let's transform and split the dataset\n",
    "\n"
   ]
  }
 ],
 "metadata": {
  "kernelspec": {
   "display_name": "sweetnet_env",
   "language": "python",
   "name": "python3"
  },
  "language_info": {
   "codemirror_mode": {
    "name": "ipython",
    "version": 3
   },
   "file_extension": ".py",
   "mimetype": "text/x-python",
   "name": "python",
   "nbconvert_exporter": "python",
   "pygments_lexer": "ipython3",
   "version": "3.11.11"
  }
 },
 "nbformat": 4,
 "nbformat_minor": 5
}
