{
 "cells": [
  {
   "cell_type": "markdown",
   "id": "ffe9cea4",
   "metadata": {},
   "source": [
    "### About\n",
    "To get to know glycowork I'll first get the pretrained sweetnet module working, then I'll build an evaluator to check its performance, this evaluator is meant to be iterated throughout the project until I can use it for the final evaluation where I compare base SweetNet to my GLM-infused Sweetnet. The testing data from the pretrained model will be used as a sanity chek once I set up my own sweetnet to iterate into the GLM-infuced variant (eventually I'll work with glycowork/ml/models.py)"
   ]
  },
  {
   "cell_type": "markdown",
   "id": "31fa38be",
   "metadata": {},
   "source": [
    " # Load Dependencies"
   ]
  },
  {
   "cell_type": "markdown",
   "id": "a2029487",
   "metadata": {},
   "source": []
  }
 ],
 "metadata": {
  "language_info": {
   "name": "python"
  }
 },
 "nbformat": 4,
 "nbformat_minor": 5
}
