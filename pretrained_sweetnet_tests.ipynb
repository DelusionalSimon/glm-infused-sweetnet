{
 "cells": [
  {
   "cell_type": "markdown",
   "id": "ffe9cea4",
   "metadata": {},
   "source": [
    "### About\n",
    "To get to know glycowork I'll first get the pretrained sweetnet module working, then I'll build an evaluator to check its performance, this evaluator is meant to be iterated throughout the project until I can use it for the final evaluation where I compare base SweetNet to my GLM-infused Sweetnet. The testing data from the pretrained model will be used as a sanity chek once I set up my own sweetnet to iterate into the GLM-infuced variant (eventually I'll work with glycowork/ml/models.py)"
   ]
  },
  {
   "cell_type": "markdown",
   "id": "31fa38be",
   "metadata": {},
   "source": [
    " # Load Dependencies"
   ]
  },
  {
   "cell_type": "code",
   "execution_count": 1,
   "id": "19bba6cd",
   "metadata": {},
   "outputs": [
    {
     "name": "stderr",
     "output_type": "stream",
     "text": [
      "c:\\Users\\somon\\miniconda3\\envs\\sweetnet_env\\Lib\\site-packages\\tqdm\\auto.py:21: TqdmWarning: IProgress not found. Please update jupyter and ipywidgets. See https://ipywidgets.readthedocs.io/en/stable/user_install.html\n",
      "  from .autonotebook import tqdm as notebook_tqdm\n"
     ]
    }
   ],
   "source": [
    "import glycowork"
   ]
  },
  {
   "cell_type": "markdown",
   "id": "a2029487",
   "metadata": {},
   "source": [
    "# Load pre-trained SweetNet"
   ]
  },
  {
   "cell_type": "code",
   "execution_count": 3,
   "id": "46f73587",
   "metadata": {},
   "outputs": [
    {
     "name": "stdout",
     "output_type": "stream",
     "text": [
      "Found prep_model in glycowork.ml!\n",
      "Help on function prep_model in module glycowork.ml.models:\n",
      "\n",
      "prep_model(model_type: Literal['SweetNet', 'LectinOracle', 'LectinOracle_flex', 'NSequonPred'], num_classes: int, libr: Optional[Dict[str, int]] = None, trained: bool = False, hidden_dim: int = 128) -> torch.nn.modules.module.Module\n",
      "    wrapper to instantiate model, initialize it, and put it on the GPU\n",
      "\n"
     ]
    }
   ],
   "source": [
    "try:\n",
    "    from glycowork.ml.models import prep_model\n",
    "    print(\"Found prep_model in glycowork.ml!\")\n",
    "    help(prep_model)\n",
    "except ImportError:\n",
    "    print(\"Could not import prep_model directly from glycowork.ml.\")\n",
    "    # Optional: Explore the ml module further\n",
    "    # import glycowork.ml\n",
    "    # print(dir(glycowork.ml))"
   ]
  },
  {
   "cell_type": "markdown",
   "id": "fa4ada5b",
   "metadata": {},
   "source": [
    "That was a couple of hours of preamble to get that to work.\n",
    "\n",
    "I set up a normal glycowork install in google colab to verify that I could get the function to work and almost gave up on having an editable local install but I set out to try just one more time and succeeded in installing what I need\n",
    "\n",
    "I set up new fresh conda environment with better dependencies I am able to use the prep_model function"
   ]
  },
  {
   "cell_type": "code",
   "execution_count": 8,
   "id": "a38067ec",
   "metadata": {},
   "outputs": [
    {
     "name": "stdout",
     "output_type": "stream",
     "text": [
      "SweetNet(\n",
      "  (conv1): GraphConv(128, 128)\n",
      "  (conv2): GraphConv(128, 128)\n",
      "  (conv3): GraphConv(128, 128)\n",
      "  (item_embedding): Embedding(2566, 128)\n",
      "  (lin1): Linear(in_features=128, out_features=1024, bias=True)\n",
      "  (lin2): Linear(in_features=1024, out_features=128, bias=True)\n",
      "  (lin3): Linear(in_features=128, out_features=3, bias=True)\n",
      "  (bn1): BatchNorm1d(1024, eps=1e-05, momentum=0.1, affine=True, track_running_stats=True)\n",
      "  (bn2): BatchNorm1d(128, eps=1e-05, momentum=0.1, affine=True, track_running_stats=True)\n",
      "  (act1): LeakyReLU(negative_slope=0.01)\n",
      "  (act2): LeakyReLU(negative_slope=0.01)\n",
      ")\n"
     ]
    }
   ],
   "source": [
    "simple_sweetnet = prep_model(\"SweetNet\", 3)\n",
    "print(simple_sweetnet)"
   ]
  },
  {
   "cell_type": "markdown",
   "id": "964b94e1",
   "metadata": {},
   "source": [
    "I have a pre-trained SweetNet to play around with, now I just need a way to test it. \n",
    "\n",
    "Time to build a first iteration of the evaluator\n",
    "\n",
    "Since the pre-trained model is made for species prediction, lets do just that, when I have my own model I can predict for other properties. \n"
   ]
  }
 ],
 "metadata": {
  "kernelspec": {
   "display_name": "sweetnet_env",
   "language": "python",
   "name": "python3"
  },
  "language_info": {
   "codemirror_mode": {
    "name": "ipython",
    "version": 3
   },
   "file_extension": ".py",
   "mimetype": "text/x-python",
   "name": "python",
   "nbconvert_exporter": "python",
   "pygments_lexer": "ipython3",
   "version": "3.11.11"
  }
 },
 "nbformat": 4,
 "nbformat_minor": 5
}
