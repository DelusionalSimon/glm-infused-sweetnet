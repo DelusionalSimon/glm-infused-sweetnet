{
 "cells": [
  {
   "cell_type": "markdown",
   "id": "51b80efd",
   "metadata": {},
   "source": [
    "# Infusion Evaluation System\n",
    "\n",
    "Used to Evaluate the performance of Infused, vs noninfused models over several training runs to compare different metrics. "
   ]
  },
  {
   "cell_type": "markdown",
   "id": "512d390a",
   "metadata": {},
   "source": [
    "### ||RUN ON RESTART||"
   ]
  },
  {
   "cell_type": "code",
   "execution_count": null,
   "id": "719ba33d",
   "metadata": {},
   "outputs": [],
   "source": [
    "# Load dependencies\n",
    "\n",
    "from utils import build_multilabel_dataset, multilabel_split, prep_infused_sweetnet\n",
    "\n",
    "import os\n",
    "import pickle\n",
    "\n",
    "from glycowork.ml.processing import split_data_to_train\n",
    "from glycowork.ml import model_training\n"
   ]
  },
  {
   "cell_type": "code",
   "execution_count": null,
   "id": "08ab54e9",
   "metadata": {},
   "outputs": [],
   "source": [
    "# Load embeddings\n",
    "\n",
    "pickle_file_path = 'glm_embeddings_1.pkl'\n",
    "\n",
    "# --- Load the Pickle File ---\n",
    "if os.path.exists(pickle_file_path):\n",
    "    print(f\"Loading embeddings from: {pickle_file_path}\")\n",
    "    try:\n",
    "        # Open the file in binary read mode ('rb')\n",
    "        with open(pickle_file_path, 'rb') as file_handle:\n",
    "            # Load the object(s) from the pickle file\n",
    "            glm_embeddings = pickle.load(file_handle)\n",
    "\n",
    "        print(\"Embeddings loaded successfully!\")        \n",
    "\n",
    "    except Exception as e:\n",
    "        print(f\"An error occurred while loading the pickle file: {e}\")\n",
    "else:\n",
    "    print(f\"Error: File not found at '{pickle_file_path}'. Please check the filename and path.\")"
   ]
  },
  {
   "cell_type": "markdown",
   "id": "433df162",
   "metadata": {},
   "source": [
    "## Evaluation Loop\n",
    "Change parameters here for each trial run.\n"
   ]
  },
  {
   "cell_type": "code",
   "execution_count": null,
   "id": "aad01d2a",
   "metadata": {},
   "outputs": [],
   "source": [
    "# Load part of dataset to train the model on\n",
    "\n",
    "glycans, labels, label_names = build_multilabel_dataset(glycan_dataset='df_species', \n",
    "                                                        glycan_class='Kingdom', \n",
    "                                                        min_class_size=2)"
   ]
  },
  {
   "cell_type": "code",
   "execution_count": null,
   "id": "bead4650",
   "metadata": {},
   "outputs": [],
   "source": [
    "# initialize all_training_histories which is used to save training data\n",
    "all_training_histories = {} \n",
    "# Only run this cell when you run an entirely new run."
   ]
  },
  {
   "cell_type": "code",
   "execution_count": null,
   "id": "74cb5056",
   "metadata": {},
   "outputs": [],
   "source": [
    "# Run settings\n",
    "\n",
    "# file to save the run data to\n",
    "saved_run_data = \"evaluation_run_dump\"\n",
    "\n",
    "trial_seed = 1\n",
    "#increment each trial by 1\n",
    "\n",
    "config_description = 'Kindomd'\n",
    "# baseline, infused_train, or infused\n",
    "\n",
    "learning_rate = 0.005"
   ]
  },
  {
   "cell_type": "code",
   "execution_count": null,
   "id": "7f4a46f8",
   "metadata": {},
   "outputs": [],
   "source": [
    "# Split the dataset into training, validation, and test sets\n",
    "ratio = 0.593\n",
    "ratiod = 1 - ((1 - ratio)/2)\n",
    "train_glycans, val_glycans, test_glycans, \\\n",
    "    train_labels, val_labels, test_labels = multilabel_split(glycans, labels, train_size = ratio, \n",
    "                                                             random_state=trial_seed, no_test = False)\n",
    "\"\"\"\n",
    "# Load into dataloders for training and validation\n",
    "dataloaders = split_data_to_train(\n",
    "    glycan_list_train = train_glycans, glycan_list_val = val_glycans, labels_train = train_labels, labels_val = val_labels,\n",
    "    batch_size = 128,  # 32 or 128 seem to work well on this system\n",
    "    drop_last = False,\n",
    "    augment_prob = 0.0,  # Adjust if you want augmentation for training\n",
    "    generalization_prob = 0.2  # Adjust if you want generalization for training\n",
    ")\n",
    "\"\"\""
   ]
  },
  {
   "cell_type": "code",
   "execution_count": null,
   "id": "d3acedc1",
   "metadata": {},
   "outputs": [],
   "source": [
    "ratio2 = 1- ((1 - ratio) / (1 + ratio))\n",
    "print(f\"Ratio for test set: {ratio2}\")"
   ]
  },
  {
   "cell_type": "code",
   "execution_count": null,
   "id": "dbfeeba6",
   "metadata": {},
   "outputs": [],
   "source": [
    "\n",
    "train_glycans, val_glycans, test_glycans, \\\n",
    "    train_labels, val_labels, test_labels = multilabel_split(train_glycans, train_labels, train_size=ratio2, \n",
    "                                                             random_state=trial_seed, no_test = True)"
   ]
  },
  {
   "cell_type": "code",
   "execution_count": null,
   "id": "7aca0a0c",
   "metadata": {},
   "outputs": [],
   "source": [
    "# model training \n",
    "\n",
    "classes = len(labels[0]) # number of classes in the dataset\n",
    "\n",
    "model =  prep_infused_sweetnet(\n",
    "            initialization_method = 'random', # random or external\n",
    "            num_classes = classes,\n",
    "            embeddings_dict = glm_embeddings, \n",
    "            trainable_embeddings = True, # True or False\n",
    "            ) \n",
    "\n",
    "optimizer_ft, scheduler, criterion = model_training.training_setup(model, learning_rate, num_classes = classes)\n",
    "\n",
    "model_ft, current_run_metrics = model_training.train_model(model, dataloaders, criterion, optimizer_ft, scheduler,\n",
    "                   num_epochs = 100, mode = 'multilabel', return_metrics = True)\n",
    "\n",
    "run_identifier = f\"{config_description}_{trial_seed}\"\n",
    "all_training_histories[run_identifier] = current_run_metrics\n",
    "\n",
    "saved_run_data_path = (f\"{saved_run_data}.pkl\")\n",
    "\n",
    "# Save the entire collection at the end (or periodically)\n",
    "with open(saved_run_data_path, 'wb') as f:\n",
    "    pickle.dump(all_training_histories, f)\n",
    "print(f\"Saved training histories to {saved_run_data_path}\")"
   ]
  },
  {
   "cell_type": "code",
   "execution_count": null,
   "id": "d2cfde29",
   "metadata": {},
   "outputs": [],
   "source": [
    "print(all_training_histories)"
   ]
  },
  {
   "cell_type": "code",
   "execution_count": null,
   "id": "46656f97",
   "metadata": {},
   "outputs": [],
   "source": [
    "# Load trial data\n",
    "\n",
    "pickle_file_path = 'evaluation_run_dump.pkl'\n",
    "\n",
    "# --- Load the Pickle File ---\n",
    "if os.path.exists(pickle_file_path):\n",
    "    print(f\"Loading data from: {pickle_file_path}\")\n",
    "    try:\n",
    "        # Open the file in binary read mode ('rb')\n",
    "        with open(pickle_file_path, 'rb') as file_handle:\n",
    "            # Load the object(s) from the pickle file\n",
    "            user_data_string_from_input = pickle.load(file_handle)\n",
    "\n",
    "        print(\"Data loaded successfully!\")        \n",
    "\n",
    "    except Exception as e:\n",
    "        print(f\"An error occurred while loading the pickle file: {e}\")\n",
    "else:\n",
    "    print(f\"Error: File not found at '{pickle_file_path}'. Please check the filename and path.\")"
   ]
  },
  {
   "cell_type": "code",
   "execution_count": null,
   "id": "875d6388",
   "metadata": {},
   "outputs": [],
   "source": [
    "print(user_data_string_from_input)"
   ]
  },
  {
   "cell_type": "code",
   "execution_count": null,
   "id": "673f2aa8",
   "metadata": {},
   "outputs": [],
   "source": [
    "\n",
    "# print some keys to check in the Sanity Cheker\n",
    "print(list(loaded_embeddings.keys())[:10])"
   ]
  },
  {
   "cell_type": "code",
   "execution_count": null,
   "id": "d023d4da",
   "metadata": {},
   "outputs": [],
   "source": [
    "# --- Embedding Sanity Checker ---\n",
    "\n",
    "# 1. Choose a token to check \n",
    "token_to_check = '!GlcNAc' \n",
    "\n",
    "\n",
    "from glycowork.glycan_data.loader import  lib\n",
    "import numpy as np\n",
    "import torch\n",
    "\n",
    "glycowork_lib = lib\n",
    "\n",
    "if token_to_check not in glycowork_lib:\n",
    "    print(f\"Error: Token '{token_to_check}' not found in glycowork_lib. Choose another token.\")\n",
    "elif glm_embeddings is None or token_to_check not in glm_embeddings:\n",
    "    print(f\"Error: Token '{token_to_check}' not found in glm_embeddings dictionary or dictionary not loaded.\")\n",
    "else:\n",
    "    print(f\"--- Checking embedding for token: '{token_to_check}' ---\")\n",
    "    \n",
    "    # 3. Get the index and the vector from the dictionary\n",
    "    token_index = glycowork_lib[token_to_check]\n",
    "    vector_from_dict = glm_embeddings[token_to_check]\n",
    "    print(f\"Index for '{token_to_check}': {token_index}\")\n",
    "    print(f\"Vector from glm_embeddings dict (first 5 elements): {vector_from_dict[:5]}\")\n",
    "\n",
    "    # 4. Prepare a model instance using the 'external' method\n",
    "    print(\"\\nPreparing a temporary model instance with external embeddings...\")\n",
    "    try:\n",
    "        # Use parameters relevant for checking the embedding layer\n",
    "        temp_model = prep_infused_sweetnet(\n",
    "            num_classes=len(labels[0]), # Needs a valid class number\n",
    "            initialization_method='external',\n",
    "            embeddings_dict=glm_embeddings,\n",
    "            trainable_embeddings=False, # Trainable doesn't matter for checking initial state\n",
    "            hidden_dim=vector_from_dict.shape[0], # Ensure hidden_dim matches embedding dim\n",
    "            libr=glycowork_lib\n",
    "        )\n",
    "        \n",
    "\n",
    "        # 5. Get the vector from the model's embedding layer\n",
    "        with torch.no_grad(): # No need for gradients here\n",
    "            model_embedding_layer = temp_model.item_embedding\n",
    "            # Ensure index is valid for the layer\n",
    "            if token_index < model_embedding_layer.weight.shape[0]:\n",
    "                vector_from_model = model_embedding_layer.weight[token_index].cpu().numpy()\n",
    "                print(f\"Vector from model's layer (index {token_index}, first 5 elements): {vector_from_model[:5]}\")\n",
    "\n",
    "                # 6. Compare the vectors\n",
    "                if np.allclose(vector_from_dict, vector_from_model, atol=1e-6): # Use allclose for float comparison\n",
    "                    print(f\"\\nSUCCESS: Vectors for '{token_to_check}' match between dictionary and model layer.\")\n",
    "                else:\n",
    "                    print(f\"\\nFAILURE: Vectors for '{token_to_check}' DO NOT match.\")\n",
    "                    # Optional: print more elements or the difference\n",
    "                    # print(f\"Difference (sum of absolute diff): {np.sum(np.abs(vector_from_dict - vector_from_model))}\")\n",
    "            else:\n",
    "                print(f\"Error: Index {token_index} is out of bounds for the model's embedding layer (size {model_embedding_layer.weight.shape[0]})\")\n",
    "\n",
    "    except Exception as e:\n",
    "        print(f\"\\nAn error occurred during model preparation or vector comparison: {e}\")"
   ]
  },
  {
   "cell_type": "code",
   "execution_count": null,
   "id": "28f0882f",
   "metadata": {},
   "outputs": [],
   "source": [
    "classes = len(labels[0]) # number of classes in the dataset\n",
    "\n",
    "model =  prep_infused_sweetnet(\n",
    "            initialization_method = 'external', # random or external\n",
    "            num_classes = classes,\n",
    "            embeddings_dict = glm_embeddings, \n",
    "            trainable_embeddings = False, # True or False\n",
    "            ) "
   ]
  },
  {
   "cell_type": "code",
   "execution_count": null,
   "id": "99f2cc74",
   "metadata": {},
   "outputs": [],
   "source": [
    "print(model.item_embedding.weight.data[3])\n",
    "print(model.item_embedding.weight.data[10])\n",
    "print(model.item_embedding.weight.data[42])"
   ]
  },
  {
   "cell_type": "code",
   "execution_count": null,
   "id": "042e2e6f",
   "metadata": {},
   "outputs": [],
   "source": [
    "optimizer_ft, scheduler, criterion = model_training.training_setup(model, learning_rate, num_classes = classes)\n",
    "\n",
    "model_ft, current_run_metrics = model_training.train_model(model, dataloaders, criterion, optimizer_ft, scheduler,\n",
    "                   num_epochs = 10, mode = 'multilabel', return_metrics = True)"
   ]
  },
  {
   "cell_type": "code",
   "execution_count": null,
   "id": "292a7007",
   "metadata": {},
   "outputs": [],
   "source": [
    "print(model_ft.item_embedding.weight.data[3])"
   ]
  }
 ],
 "metadata": {
  "kernelspec": {
   "display_name": "sweetnet_env",
   "language": "python",
   "name": "python3"
  },
  "language_info": {
   "codemirror_mode": {
    "name": "ipython",
    "version": 3
   },
   "file_extension": ".py",
   "mimetype": "text/x-python",
   "name": "python",
   "nbconvert_exporter": "python",
   "pygments_lexer": "ipython3",
   "version": "3.11.11"
  }
 },
 "nbformat": 4,
 "nbformat_minor": 5
}
