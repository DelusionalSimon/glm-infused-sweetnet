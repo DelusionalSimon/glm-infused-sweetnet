{
 "cells": [
  {
   "cell_type": "markdown",
   "id": "51b80efd",
   "metadata": {},
   "source": [
    "# Automated Infusion Evaluation System\n",
    "\n",
    "This notebook automates the process of running multiple trials for different model configurations (baseline, infused-fixed, infused-trainable) to evaluate and compare their performance systematically. It collects validation metrics for each run, aggregates them, and saves the results.\n"
   ]
  },
  {
   "cell_type": "markdown",
   "id": "512d390a",
   "metadata": {},
   "source": [
    "### ||RUN ON RESTART||"
   ]
  },
  {
   "cell_type": "code",
   "execution_count": null,
   "id": "719ba33d",
   "metadata": {},
   "outputs": [],
   "source": [
    "# Load dependencies\n",
    "\n",
    "from utils import build_multilabel_dataset, multilabel_split, prep_infused_sweetnet, seed_everything\n",
    "\n",
    "import os\n",
    "import pickle\n",
    "\n",
    "from glycowork.ml.processing import split_data_to_train\n",
    "from glycowork.ml import model_training\n"
   ]
  },
  {
   "cell_type": "code",
   "execution_count": null,
   "id": "08ab54e9",
   "metadata": {},
   "outputs": [],
   "source": [
    "# Load embeddings\n",
    "\n",
    "pickle_file_path = 'glm_embeddings_1.pkl'\n",
    "\n",
    "# --- Load the Pickle File ---\n",
    "if os.path.exists(pickle_file_path):\n",
    "    print(f\"Loading embeddings from: {pickle_file_path}\")\n",
    "    try:\n",
    "        # Open the file in binary read mode ('rb')\n",
    "        with open(pickle_file_path, 'rb') as file_handle:\n",
    "            # Load the object(s) from the pickle file\n",
    "            glm_embeddings = pickle.load(file_handle)\n",
    "\n",
    "        print(\"Embeddings loaded successfully!\")        \n",
    "\n",
    "    except Exception as e:\n",
    "        print(f\"An error occurred while loading the pickle file: {e}\")\n",
    "else:\n",
    "    print(f\"Error: File not found at '{pickle_file_path}'. Please check the filename and path.\")"
   ]
  },
  {
   "cell_type": "markdown",
   "id": "433df162",
   "metadata": {},
   "source": [
    "## Evaluation Loop\n",
    "Change parameters here for each trial run.\n"
   ]
  },
  {
   "cell_type": "code",
   "execution_count": null,
   "id": "aad01d2a",
   "metadata": {},
   "outputs": [],
   "source": [
    "# Load part of dataset to train the model on\n",
    "\n",
    "glycans, labels, label_names = build_multilabel_dataset(glycan_dataset='df_species', \n",
    "                                                        glycan_class='Kingdom', \n",
    "                                                        min_class_size=6)"
   ]
  },
  {
   "cell_type": "code",
   "execution_count": null,
   "id": "7fb39f88",
   "metadata": {},
   "outputs": [],
   "source": [
    "# --- Global Parameters & Experiment Configuration ---\n",
    "NUM_RUNS = 10  # Number of trials per configuration (e.g., 5 or 10)\n",
    "EPOCHS = 100 # Number of training epochs per run\n",
    "BATCH_SIZE = 128\n",
    "TRAIN_SIZE = 0.7 # Fraction of data to use for training (0.7 = 70% train, 15% val, 15% test)\n",
    "LEARNING_RATE = 0.005 # Learning rate for the optimizer\n",
    "DROP_LAST = False, # Whether to drop the last batch if it's smaller than the batch size\n",
    "AUGMENT_PROB = 0.0,  # Adjust if you want augmentation for training\n",
    "GENERALIZATION_PROB = 0.2  # Adjust if you want generalization for training\n",
    "BASE_RANDOM_STATE = 42 # Initial seed for reproducibility of the entire experiment sequence\n",
    "RESULTS_SUMMARY_CSV_PATH = \"automated_evaluation_summary.csv\"\n",
    "ALL_EPOCH_DATA_PKL_PATH = \"automated_all_epoch_data.pkl\"\n",
    "\n",
    "# Set the random seed for reproducibility\n",
    "seed_everything(BASE_RANDOM_STATE)\n",
    "\n",
    "# Initialize lists/dicts to store results globally for the notebook session\n",
    "all_run_summary_results = [] # For storing best metrics from each run\n",
    "all_run_epoch_histories = {} # For storing full epoch-wise histories"
   ]
  },
  {
   "cell_type": "code",
   "execution_count": null,
   "id": "74cb5056",
   "metadata": {},
   "outputs": [],
   "source": [
    "# Run settings\n",
    "\n",
    "# file to save the run data to\n",
    "saved_run_data = \"evaluation_run_dump\"\n",
    "\n",
    "trial_seed = 2\n",
    "#increment each trial by 1\n",
    "\n",
    "config_description = 'Kindomd'\n",
    "# baseline, infused_train, or infused\n",
    "\n",
    "learning_rate = 0.005"
   ]
  },
  {
   "cell_type": "code",
   "execution_count": null,
   "id": "7f4a46f8",
   "metadata": {},
   "outputs": [],
   "source": [
    "# Split the dataset into training, validation, and test sets\n",
    "train_glycans, val_glycans, test_glycans, \\\n",
    "    train_labels, val_labels, test_labels = multilabel_split(glycans, labels, train_size=0.7, \n",
    "                                                             random_state=trial_seed)\n",
    "\n",
    "# Load into dataloders for training and validation\n",
    "dataloaders = split_data_to_train(\n",
    "    glycan_list_train = train_glycans, glycan_list_val = val_glycans, labels_train = train_labels, labels_val = val_labels,\n",
    "    batch_size = 128,  # 32 or 128 seem to work well on this system\n",
    "    drop_last = False,\n",
    "    augment_prob = 0.0,  # Adjust if you want augmentation for training\n",
    "    generalization_prob = 0.2  # Adjust if you want generalization for training\n",
    ")"
   ]
  },
  {
   "cell_type": "code",
   "execution_count": null,
   "id": "7aca0a0c",
   "metadata": {},
   "outputs": [],
   "source": [
    "# model training \n",
    "\n",
    "classes = len(labels[0]) # number of classes in the dataset\n",
    "\n",
    "model =  prep_infused_sweetnet(\n",
    "            initialization_method = 'external', # random or external\n",
    "            num_classes = classes,\n",
    "            embeddings_dict = glm_embeddings, \n",
    "            trainable_embeddings = True, # True or False\n",
    "            ) \n",
    "\n",
    "optimizer_ft, scheduler, criterion = model_training.training_setup(model, learning_rate, num_classes = classes)\n",
    "\n",
    "model_ft, current_run_metrics = model_training.train_model(model, dataloaders, criterion, optimizer_ft, scheduler,\n",
    "                   num_epochs = 100, mode = 'multilabel', return_metrics = True)\n",
    "\n",
    "run_identifier = f\"{config_description}_{trial_seed}\"\n",
    "all_training_histories[run_identifier] = current_run_metrics\n",
    "\n",
    "saved_run_data_path = (f\"{saved_run_data}.pkl\")\n",
    "\n",
    "# Save the entire collection at the end (or periodically)\n",
    "with open(saved_run_data_path, 'wb') as f:\n",
    "    pickle.dump(all_training_histories, f)\n",
    "print(f\"Saved training histories to {saved_run_data_path}\")"
   ]
  },
  {
   "cell_type": "code",
   "execution_count": null,
   "id": "d2cfde29",
   "metadata": {},
   "outputs": [],
   "source": [
    "print(all_training_histories)"
   ]
  },
  {
   "cell_type": "code",
   "execution_count": null,
   "id": "46656f97",
   "metadata": {},
   "outputs": [],
   "source": [
    "# Load trial data\n",
    "\n",
    "pickle_file_path = 'evaluation_run_1.pkl'\n",
    "\n",
    "# --- Load the Pickle File ---\n",
    "if os.path.exists(pickle_file_path):\n",
    "    print(f\"Loading data from: {pickle_file_path}\")\n",
    "    try:\n",
    "        # Open the file in binary read mode ('rb')\n",
    "        with open(pickle_file_path, 'rb') as file_handle:\n",
    "            # Load the object(s) from the pickle file\n",
    "            user_data_string_from_input = pickle.load(file_handle)\n",
    "\n",
    "        print(\"Data loaded successfully!\")        \n",
    "\n",
    "    except Exception as e:\n",
    "        print(f\"An error occurred while loading the pickle file: {e}\")\n",
    "else:\n",
    "    print(f\"Error: File not found at '{pickle_file_path}'. Please check the filename and path.\")"
   ]
  },
  {
   "cell_type": "code",
   "execution_count": null,
   "id": "875d6388",
   "metadata": {},
   "outputs": [],
   "source": [
    "print(user_data_string_from_input)"
   ]
  }
 ],
 "metadata": {
  "kernelspec": {
   "display_name": "sweetnet_env",
   "language": "python",
   "name": "python3"
  },
  "language_info": {
   "codemirror_mode": {
    "name": "ipython",
    "version": 3
   },
   "file_extension": ".py",
   "mimetype": "text/x-python",
   "name": "python",
   "nbconvert_exporter": "python",
   "pygments_lexer": "ipython3",
   "version": "3.11.11"
  }
 },
 "nbformat": 4,
 "nbformat_minor": 5
}
